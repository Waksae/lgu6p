{
 "cells": [
  {
   "cell_type": "code",
   "execution_count": 1,
   "id": "970f8b63-13e8-4585-8bbc-b11cc513b572",
   "metadata": {},
   "outputs": [
    {
     "data": {
      "text/html": [
       "<div>\n",
       "<style scoped>\n",
       "    .dataframe tbody tr th:only-of-type {\n",
       "        vertical-align: middle;\n",
       "    }\n",
       "\n",
       "    .dataframe tbody tr th {\n",
       "        vertical-align: top;\n",
       "    }\n",
       "\n",
       "    .dataframe thead th {\n",
       "        text-align: right;\n",
       "    }\n",
       "</style>\n",
       "<table border=\"1\" class=\"dataframe\">\n",
       "  <thead>\n",
       "    <tr style=\"text-align: right;\">\n",
       "      <th></th>\n",
       "      <th>sepal_length</th>\n",
       "      <th>species</th>\n",
       "    </tr>\n",
       "  </thead>\n",
       "  <tbody>\n",
       "    <tr>\n",
       "      <th>0</th>\n",
       "      <td>5.1</td>\n",
       "      <td>setosa</td>\n",
       "    </tr>\n",
       "  </tbody>\n",
       "</table>\n",
       "</div>"
      ],
      "text/plain": [
       "   sepal_length species\n",
       "0           5.1  setosa"
      ]
     },
     "execution_count": 1,
     "metadata": {},
     "output_type": "execute_result"
    }
   ],
   "source": [
    "import seaborn as sns\n",
    "import pandas as pd\n",
    "\n",
    "iris = sns.load_dataset(\"iris\")\n",
    "result = iris.loc[:,['sepal_length','species']]\n",
    "result.head(1)"
   ]
  },
  {
   "cell_type": "code",
   "execution_count": 2,
   "id": "a17a2155-a232-464f-9dda-f875cea1b3db",
   "metadata": {},
   "outputs": [],
   "source": [
    "result.to_excel('dataset/output.xlsx',sheet_name='Sheet_name_1',index=False)"
   ]
  },
  {
   "cell_type": "markdown",
   "id": "705493e2-795d-4c39-a219-1f5776a5d45f",
   "metadata": {},
   "source": [
    "# groupby 연산\n",
    "- 집계함수와 같이 사용\n",
    "- 그룹 별 비교 및 분석"
   ]
  },
  {
   "cell_type": "code",
   "execution_count": 3,
   "id": "ad601f40-7aeb-4d07-8bcd-a8f73a515a35",
   "metadata": {},
   "outputs": [
    {
     "data": {
      "text/html": [
       "<div>\n",
       "<style scoped>\n",
       "    .dataframe tbody tr th:only-of-type {\n",
       "        vertical-align: middle;\n",
       "    }\n",
       "\n",
       "    .dataframe tbody tr th {\n",
       "        vertical-align: top;\n",
       "    }\n",
       "\n",
       "    .dataframe thead th {\n",
       "        text-align: right;\n",
       "    }\n",
       "</style>\n",
       "<table border=\"1\" class=\"dataframe\">\n",
       "  <thead>\n",
       "    <tr style=\"text-align: right;\">\n",
       "      <th></th>\n",
       "      <th>total_bill</th>\n",
       "      <th>tip</th>\n",
       "      <th>sex</th>\n",
       "      <th>smoker</th>\n",
       "      <th>day</th>\n",
       "      <th>time</th>\n",
       "      <th>size</th>\n",
       "    </tr>\n",
       "  </thead>\n",
       "  <tbody>\n",
       "    <tr>\n",
       "      <th>0</th>\n",
       "      <td>16.99</td>\n",
       "      <td>1.01</td>\n",
       "      <td>Female</td>\n",
       "      <td>No</td>\n",
       "      <td>Sun</td>\n",
       "      <td>Dinner</td>\n",
       "      <td>2</td>\n",
       "    </tr>\n",
       "  </tbody>\n",
       "</table>\n",
       "</div>"
      ],
      "text/plain": [
       "   total_bill   tip     sex smoker  day    time  size\n",
       "0       16.99  1.01  Female     No  Sun  Dinner     2"
      ]
     },
     "execution_count": 3,
     "metadata": {},
     "output_type": "execute_result"
    }
   ],
   "source": [
    "import seaborn as sns\n",
    "tips = sns.load_dataset(\"tips\")\n",
    "tips.head(1)"
   ]
  },
  {
   "cell_type": "markdown",
   "id": "314154e7-db83-4016-96c8-327e84bf527a",
   "metadata": {},
   "source": [
    "## 성별로 tip 평균 구하기"
   ]
  },
  {
   "cell_type": "code",
   "execution_count": 9,
   "id": "d5508d40-e371-44ff-abf4-6b3c59b040b0",
   "metadata": {},
   "outputs": [
    {
     "data": {
      "text/plain": [
       "sex\n",
       "Male      3.089618\n",
       "Female    2.833448\n",
       "Name: tip, dtype: float64"
      ]
     },
     "execution_count": 9,
     "metadata": {},
     "output_type": "execute_result"
    }
   ],
   "source": [
    "tips.groupby('sex',observed=True)['tip'].mean()\n",
    "\n",
    "# 통계적으로 유의한가 : 기초 통계 영역으로 넘어감."
   ]
  },
  {
   "cell_type": "code",
   "execution_count": 14,
   "id": "bc605cbd-6c16-4b10-bf92-0dbf5d3bf27b",
   "metadata": {},
   "outputs": [
    {
     "data": {
      "text/plain": [
       "day\n",
       "Thur    1096.33\n",
       "Fri      325.88\n",
       "Sat     1778.40\n",
       "Sun     1627.16\n",
       "Name: total_bill, dtype: float64"
      ]
     },
     "execution_count": 14,
     "metadata": {},
     "output_type": "execute_result"
    }
   ],
   "source": [
    "# 요일별 총 결제 금액 구하기 \n",
    "# 집계함수 : sum()\n",
    "tips.groupby('day',observed=True)['total_bill'].sum()"
   ]
  },
  {
   "cell_type": "markdown",
   "id": "a085f3b4-7a63-4da0-8b29-77a60f1568fe",
   "metadata": {},
   "source": [
    "## 요일 & 성별 팁 평균"
   ]
  },
  {
   "cell_type": "code",
   "execution_count": 16,
   "id": "81b7f809-96b5-47eb-a261-185709680174",
   "metadata": {},
   "outputs": [
    {
     "data": {
      "text/plain": [
       "day   sex   \n",
       "Thur  Male       89.41\n",
       "      Female     82.42\n",
       "Fri   Male       26.93\n",
       "      Female     25.03\n",
       "Sat   Male      181.95\n",
       "      Female     78.45\n",
       "Sun   Male      186.78\n",
       "      Female     60.61\n",
       "Name: tip, dtype: float64"
      ]
     },
     "execution_count": 16,
     "metadata": {},
     "output_type": "execute_result"
    }
   ],
   "source": [
    "tips.groupby(['day','sex'],observed=True)['tip'].sum()"
   ]
  },
  {
   "cell_type": "markdown",
   "id": "89f3d066-0904-4275-8d10-141a078a9759",
   "metadata": {},
   "source": [
    "## 식사 시간별 인원 수 평균"
   ]
  },
  {
   "cell_type": "code",
   "execution_count": 17,
   "id": "8342c765-4bfe-4bcd-8196-c225ec529126",
   "metadata": {},
   "outputs": [
    {
     "data": {
      "text/plain": [
       "time\n",
       "Lunch     2.411765\n",
       "Dinner    2.630682\n",
       "Name: size, dtype: float64"
      ]
     },
     "execution_count": 17,
     "metadata": {},
     "output_type": "execute_result"
    }
   ],
   "source": [
    "tips.groupby(['time'],observed=True)['size'].mean()"
   ]
  },
  {
   "cell_type": "markdown",
   "id": "3fbe4e93-30b6-42ec-9a32-44ea0820ab5a",
   "metadata": {},
   "source": [
    "### 개인연습"
   ]
  },
  {
   "cell_type": "code",
   "execution_count": 18,
   "id": "f2ca671d-3f74-4fd7-9382-992a9fdcc5dc",
   "metadata": {},
   "outputs": [
    {
     "data": {
      "text/plain": [
       "time    sex   \n",
       "Lunch   Male      0.166083\n",
       "        Female    0.162285\n",
       "Dinner  Male      0.155407\n",
       "        Female    0.169322\n",
       "Name: tip_ratio, dtype: float64"
      ]
     },
     "execution_count": 18,
     "metadata": {},
     "output_type": "execute_result"
    }
   ],
   "source": [
    "tips['tip_ratio'] = tips['tip'] / tips['total_bill']\n",
    "tips.groupby(['time','sex'],observed=True)['tip_ratio'].mean()"
   ]
  },
  {
   "cell_type": "markdown",
   "id": "101fbb14-fad3-46ca-9a06-77f62a83d5e4",
   "metadata": {},
   "source": [
    "## 두 가지 범주 출력 변환"
   ]
  },
  {
   "cell_type": "code",
   "execution_count": 23,
   "id": "4e69a082-613a-4509-ab7c-2416de13187e",
   "metadata": {},
   "outputs": [
    {
     "data": {
      "text/html": [
       "<div>\n",
       "<style scoped>\n",
       "    .dataframe tbody tr th:only-of-type {\n",
       "        vertical-align: middle;\n",
       "    }\n",
       "\n",
       "    .dataframe tbody tr th {\n",
       "        vertical-align: top;\n",
       "    }\n",
       "\n",
       "    .dataframe thead th {\n",
       "        text-align: right;\n",
       "    }\n",
       "</style>\n",
       "<table border=\"1\" class=\"dataframe\">\n",
       "  <thead>\n",
       "    <tr style=\"text-align: right;\">\n",
       "      <th>sex</th>\n",
       "      <th>Male</th>\n",
       "      <th>Female</th>\n",
       "    </tr>\n",
       "    <tr>\n",
       "      <th>day</th>\n",
       "      <th></th>\n",
       "      <th></th>\n",
       "    </tr>\n",
       "  </thead>\n",
       "  <tbody>\n",
       "    <tr>\n",
       "      <th>Thur</th>\n",
       "      <td>2.980333</td>\n",
       "      <td>2.575625</td>\n",
       "    </tr>\n",
       "    <tr>\n",
       "      <th>Fri</th>\n",
       "      <td>2.693000</td>\n",
       "      <td>2.781111</td>\n",
       "    </tr>\n",
       "    <tr>\n",
       "      <th>Sat</th>\n",
       "      <td>3.083898</td>\n",
       "      <td>2.801786</td>\n",
       "    </tr>\n",
       "    <tr>\n",
       "      <th>Sun</th>\n",
       "      <td>3.220345</td>\n",
       "      <td>3.367222</td>\n",
       "    </tr>\n",
       "  </tbody>\n",
       "</table>\n",
       "</div>"
      ],
      "text/plain": [
       "sex       Male    Female\n",
       "day                     \n",
       "Thur  2.980333  2.575625\n",
       "Fri   2.693000  2.781111\n",
       "Sat   3.083898  2.801786\n",
       "Sun   3.220345  3.367222"
      ]
     },
     "execution_count": 23,
     "metadata": {},
     "output_type": "execute_result"
    }
   ],
   "source": [
    "result = tips.groupby(['day','sex'],observed=True)['tip'].mean()\n",
    "result.unstack() # 히트맵 시각화 적용 가능"
   ]
  },
  {
   "cell_type": "markdown",
   "id": "c1055786-a025-4149-b598-4da823a8bbb9",
   "metadata": {},
   "source": [
    "## 집계함수 두 개 이상 사용"
   ]
  },
  {
   "cell_type": "code",
   "execution_count": 27,
   "id": "327e88dc-f67d-4723-8176-59a7941ab6c4",
   "metadata": {},
   "outputs": [
    {
     "data": {
      "text/html": [
       "<div>\n",
       "<style scoped>\n",
       "    .dataframe tbody tr th:only-of-type {\n",
       "        vertical-align: middle;\n",
       "    }\n",
       "\n",
       "    .dataframe tbody tr th {\n",
       "        vertical-align: top;\n",
       "    }\n",
       "\n",
       "    .dataframe thead tr th {\n",
       "        text-align: left;\n",
       "    }\n",
       "\n",
       "    .dataframe thead tr:last-of-type th {\n",
       "        text-align: right;\n",
       "    }\n",
       "</style>\n",
       "<table border=\"1\" class=\"dataframe\">\n",
       "  <thead>\n",
       "    <tr>\n",
       "      <th></th>\n",
       "      <th></th>\n",
       "      <th colspan=\"3\" halign=\"left\">tip</th>\n",
       "      <th colspan=\"3\" halign=\"left\">total_bill</th>\n",
       "    </tr>\n",
       "    <tr>\n",
       "      <th></th>\n",
       "      <th></th>\n",
       "      <th>sum</th>\n",
       "      <th>mean</th>\n",
       "      <th>var</th>\n",
       "      <th>sum</th>\n",
       "      <th>mean</th>\n",
       "      <th>var</th>\n",
       "    </tr>\n",
       "    <tr>\n",
       "      <th>day</th>\n",
       "      <th>sex</th>\n",
       "      <th></th>\n",
       "      <th></th>\n",
       "      <th></th>\n",
       "      <th></th>\n",
       "      <th></th>\n",
       "      <th></th>\n",
       "    </tr>\n",
       "  </thead>\n",
       "  <tbody>\n",
       "    <tr>\n",
       "      <th rowspan=\"2\" valign=\"top\">Thur</th>\n",
       "      <th>Male</th>\n",
       "      <td>89.41</td>\n",
       "      <td>2.980333</td>\n",
       "      <td>1.832596</td>\n",
       "      <td>561.44</td>\n",
       "      <td>18.714667</td>\n",
       "      <td>64.316033</td>\n",
       "    </tr>\n",
       "    <tr>\n",
       "      <th>Female</th>\n",
       "      <td>82.42</td>\n",
       "      <td>2.575625</td>\n",
       "      <td>1.230516</td>\n",
       "      <td>534.89</td>\n",
       "      <td>16.715312</td>\n",
       "      <td>60.213942</td>\n",
       "    </tr>\n",
       "    <tr>\n",
       "      <th rowspan=\"2\" valign=\"top\">Fri</th>\n",
       "      <th>Male</th>\n",
       "      <td>26.93</td>\n",
       "      <td>2.693000</td>\n",
       "      <td>1.291468</td>\n",
       "      <td>198.57</td>\n",
       "      <td>19.857000</td>\n",
       "      <td>100.317201</td>\n",
       "    </tr>\n",
       "    <tr>\n",
       "      <th>Female</th>\n",
       "      <td>25.03</td>\n",
       "      <td>2.781111</td>\n",
       "      <td>0.881461</td>\n",
       "      <td>127.31</td>\n",
       "      <td>14.145556</td>\n",
       "      <td>22.930178</td>\n",
       "    </tr>\n",
       "    <tr>\n",
       "      <th rowspan=\"2\" valign=\"top\">Sat</th>\n",
       "      <th>Male</th>\n",
       "      <td>181.95</td>\n",
       "      <td>3.083898</td>\n",
       "      <td>3.208969</td>\n",
       "      <td>1227.35</td>\n",
       "      <td>20.802542</td>\n",
       "      <td>96.752916</td>\n",
       "    </tr>\n",
       "    <tr>\n",
       "      <th>Female</th>\n",
       "      <td>78.45</td>\n",
       "      <td>2.801786</td>\n",
       "      <td>1.523941</td>\n",
       "      <td>551.05</td>\n",
       "      <td>19.680357</td>\n",
       "      <td>77.553915</td>\n",
       "    </tr>\n",
       "    <tr>\n",
       "      <th rowspan=\"2\" valign=\"top\">Sun</th>\n",
       "      <th>Male</th>\n",
       "      <td>186.78</td>\n",
       "      <td>3.220345</td>\n",
       "      <td>1.615877</td>\n",
       "      <td>1269.46</td>\n",
       "      <td>21.887241</td>\n",
       "      <td>83.341231</td>\n",
       "    </tr>\n",
       "    <tr>\n",
       "      <th>Female</th>\n",
       "      <td>60.61</td>\n",
       "      <td>3.367222</td>\n",
       "      <td>1.292257</td>\n",
       "      <td>357.70</td>\n",
       "      <td>19.872222</td>\n",
       "      <td>61.426607</td>\n",
       "    </tr>\n",
       "  </tbody>\n",
       "</table>\n",
       "</div>"
      ],
      "text/plain": [
       "                tip                     total_bill                       \n",
       "                sum      mean       var        sum       mean         var\n",
       "day  sex                                                                 \n",
       "Thur Male     89.41  2.980333  1.832596     561.44  18.714667   64.316033\n",
       "     Female   82.42  2.575625  1.230516     534.89  16.715312   60.213942\n",
       "Fri  Male     26.93  2.693000  1.291468     198.57  19.857000  100.317201\n",
       "     Female   25.03  2.781111  0.881461     127.31  14.145556   22.930178\n",
       "Sat  Male    181.95  3.083898  3.208969    1227.35  20.802542   96.752916\n",
       "     Female   78.45  2.801786  1.523941     551.05  19.680357   77.553915\n",
       "Sun  Male    186.78  3.220345  1.615877    1269.46  21.887241   83.341231\n",
       "     Female   60.61  3.367222  1.292257     357.70  19.872222   61.426607"
      ]
     },
     "execution_count": 27,
     "metadata": {},
     "output_type": "execute_result"
    }
   ],
   "source": [
    "result = tips.groupby(['day','sex'],observed=True)[['tip','total_bill']].agg(['sum','mean','var'])\n",
    "result"
   ]
  },
  {
   "cell_type": "code",
   "execution_count": 29,
   "id": "60d7b836-a2bc-4e67-91c2-89d91292c60e",
   "metadata": {},
   "outputs": [
    {
     "data": {
      "text/plain": [
       "MultiIndex([(       'tip',  'sum'),\n",
       "            (       'tip', 'mean'),\n",
       "            (       'tip',  'var'),\n",
       "            ('total_bill',  'sum'),\n",
       "            ('total_bill', 'mean'),\n",
       "            ('total_bill',  'var')],\n",
       "           )"
      ]
     },
     "execution_count": 29,
     "metadata": {},
     "output_type": "execute_result"
    }
   ],
   "source": [
    "result.columns"
   ]
  },
  {
   "cell_type": "code",
   "execution_count": 30,
   "id": "f7c0e847-a991-44f0-93ac-c86fd1bad21b",
   "metadata": {},
   "outputs": [
    {
     "data": {
      "text/html": [
       "<div>\n",
       "<style scoped>\n",
       "    .dataframe tbody tr th:only-of-type {\n",
       "        vertical-align: middle;\n",
       "    }\n",
       "\n",
       "    .dataframe tbody tr th {\n",
       "        vertical-align: top;\n",
       "    }\n",
       "\n",
       "    .dataframe thead th {\n",
       "        text-align: right;\n",
       "    }\n",
       "</style>\n",
       "<table border=\"1\" class=\"dataframe\">\n",
       "  <thead>\n",
       "    <tr style=\"text-align: right;\">\n",
       "      <th></th>\n",
       "      <th>day</th>\n",
       "      <th>sex</th>\n",
       "      <th>tip_sum</th>\n",
       "      <th>tip_mean</th>\n",
       "      <th>tip_var</th>\n",
       "      <th>total_bill_sum</th>\n",
       "      <th>total_bill_mean</th>\n",
       "      <th>total_bill_var</th>\n",
       "    </tr>\n",
       "  </thead>\n",
       "  <tbody>\n",
       "    <tr>\n",
       "      <th>0</th>\n",
       "      <td>Thur</td>\n",
       "      <td>Male</td>\n",
       "      <td>89.41</td>\n",
       "      <td>2.980333</td>\n",
       "      <td>1.832596</td>\n",
       "      <td>561.44</td>\n",
       "      <td>18.714667</td>\n",
       "      <td>64.316033</td>\n",
       "    </tr>\n",
       "    <tr>\n",
       "      <th>1</th>\n",
       "      <td>Thur</td>\n",
       "      <td>Female</td>\n",
       "      <td>82.42</td>\n",
       "      <td>2.575625</td>\n",
       "      <td>1.230516</td>\n",
       "      <td>534.89</td>\n",
       "      <td>16.715312</td>\n",
       "      <td>60.213942</td>\n",
       "    </tr>\n",
       "    <tr>\n",
       "      <th>2</th>\n",
       "      <td>Fri</td>\n",
       "      <td>Male</td>\n",
       "      <td>26.93</td>\n",
       "      <td>2.693000</td>\n",
       "      <td>1.291468</td>\n",
       "      <td>198.57</td>\n",
       "      <td>19.857000</td>\n",
       "      <td>100.317201</td>\n",
       "    </tr>\n",
       "    <tr>\n",
       "      <th>3</th>\n",
       "      <td>Fri</td>\n",
       "      <td>Female</td>\n",
       "      <td>25.03</td>\n",
       "      <td>2.781111</td>\n",
       "      <td>0.881461</td>\n",
       "      <td>127.31</td>\n",
       "      <td>14.145556</td>\n",
       "      <td>22.930178</td>\n",
       "    </tr>\n",
       "    <tr>\n",
       "      <th>4</th>\n",
       "      <td>Sat</td>\n",
       "      <td>Male</td>\n",
       "      <td>181.95</td>\n",
       "      <td>3.083898</td>\n",
       "      <td>3.208969</td>\n",
       "      <td>1227.35</td>\n",
       "      <td>20.802542</td>\n",
       "      <td>96.752916</td>\n",
       "    </tr>\n",
       "    <tr>\n",
       "      <th>5</th>\n",
       "      <td>Sat</td>\n",
       "      <td>Female</td>\n",
       "      <td>78.45</td>\n",
       "      <td>2.801786</td>\n",
       "      <td>1.523941</td>\n",
       "      <td>551.05</td>\n",
       "      <td>19.680357</td>\n",
       "      <td>77.553915</td>\n",
       "    </tr>\n",
       "    <tr>\n",
       "      <th>6</th>\n",
       "      <td>Sun</td>\n",
       "      <td>Male</td>\n",
       "      <td>186.78</td>\n",
       "      <td>3.220345</td>\n",
       "      <td>1.615877</td>\n",
       "      <td>1269.46</td>\n",
       "      <td>21.887241</td>\n",
       "      <td>83.341231</td>\n",
       "    </tr>\n",
       "    <tr>\n",
       "      <th>7</th>\n",
       "      <td>Sun</td>\n",
       "      <td>Female</td>\n",
       "      <td>60.61</td>\n",
       "      <td>3.367222</td>\n",
       "      <td>1.292257</td>\n",
       "      <td>357.70</td>\n",
       "      <td>19.872222</td>\n",
       "      <td>61.426607</td>\n",
       "    </tr>\n",
       "  </tbody>\n",
       "</table>\n",
       "</div>"
      ],
      "text/plain": [
       "    day     sex  tip_sum  tip_mean   tip_var  total_bill_sum  total_bill_mean  \\\n",
       "0  Thur    Male    89.41  2.980333  1.832596          561.44        18.714667   \n",
       "1  Thur  Female    82.42  2.575625  1.230516          534.89        16.715312   \n",
       "2   Fri    Male    26.93  2.693000  1.291468          198.57        19.857000   \n",
       "3   Fri  Female    25.03  2.781111  0.881461          127.31        14.145556   \n",
       "4   Sat    Male   181.95  3.083898  3.208969         1227.35        20.802542   \n",
       "5   Sat  Female    78.45  2.801786  1.523941          551.05        19.680357   \n",
       "6   Sun    Male   186.78  3.220345  1.615877         1269.46        21.887241   \n",
       "7   Sun  Female    60.61  3.367222  1.292257          357.70        19.872222   \n",
       "\n",
       "   total_bill_var  \n",
       "0       64.316033  \n",
       "1       60.213942  \n",
       "2      100.317201  \n",
       "3       22.930178  \n",
       "4       96.752916  \n",
       "5       77.553915  \n",
       "6       83.341231  \n",
       "7       61.426607  "
      ]
     },
     "execution_count": 30,
     "metadata": {},
     "output_type": "execute_result"
    }
   ],
   "source": [
    "result.columns = ['_'.join(col) for col in result.columns]\n",
    "result.reset_index()"
   ]
  },
  {
   "cell_type": "code",
   "execution_count": 34,
   "id": "0d83561c-4422-46c8-b073-f357a01b7f73",
   "metadata": {},
   "outputs": [],
   "source": [
    "result.to_excel('dataset/day-sex-tip-total.xlsx', sheet_name = 'Sheet_1', index = False)"
   ]
  },
  {
   "cell_type": "code",
   "execution_count": null,
   "id": "8ed19f43-c324-423e-92f8-6d7df51a7877",
   "metadata": {},
   "outputs": [],
   "source": []
  }
 ],
 "metadata": {
  "kernelspec": {
   "display_name": "Python 3 (ipykernel)",
   "language": "python",
   "name": "python3"
  },
  "language_info": {
   "codemirror_mode": {
    "name": "ipython",
    "version": 3
   },
   "file_extension": ".py",
   "mimetype": "text/x-python",
   "name": "python",
   "nbconvert_exporter": "python",
   "pygments_lexer": "ipython3",
   "version": "3.13.2"
  }
 },
 "nbformat": 4,
 "nbformat_minor": 5
}
